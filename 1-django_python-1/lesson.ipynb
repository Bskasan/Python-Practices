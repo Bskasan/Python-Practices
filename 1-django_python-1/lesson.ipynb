{
 "cells": [
  {
   "cell_type": "code",
   "execution_count": 3,
   "metadata": {},
   "outputs": [
    {
     "name": "stdout",
     "output_type": "stream",
     "text": [
      "Hello World\n",
      "My name is Bekir, today I started to learn Python programming language\n"
     ]
    }
   ],
   "source": [
    "# This line prints a hello world.\n",
    "#* Comments are helpful for people who read your code in the future.\n",
    "print('Hello World')\n",
    "print('My name is Bekir, today I started to learn Python programming language.')\n"
   ]
  },
  {
   "cell_type": "code",
   "execution_count": 9,
   "metadata": {},
   "outputs": [
    {
     "name": "stdout",
     "output_type": "stream",
     "text": [
      "<class 'int'>\n",
      "<class 'str'>\n"
     ]
    }
   ],
   "source": [
    "#Variables\n",
    "#Python is dynamic programming language.\n",
    "\n",
    "my_var = 'Hello World'\n",
    "my_num = 12\n",
    "\n",
    "print(type(my_num))\n",
    "print(type(my_var))\n"
   ]
  },
  {
   "cell_type": "code",
   "execution_count": 11,
   "metadata": {},
   "outputs": [
    {
     "name": "stdout",
     "output_type": "stream",
     "text": [
      "Bekir\n",
      "Kasan\n",
      "29\n"
     ]
    }
   ],
   "source": [
    "first_name = \"Bekir\"\n",
    "surname = \"Kasan\"\n",
    "my_age = 29\n",
    "\n",
    "print(first_name)\n",
    "print(surname)\n",
    "print(my_age)"
   ]
  },
  {
   "cell_type": "code",
   "execution_count": 15,
   "metadata": {},
   "outputs": [
    {
     "name": "stdout",
     "output_type": "stream",
     "text": [
      "<class 'str'>\n",
      "Hello World!\n",
      "Ferrari is my favourite car.\n"
     ]
    }
   ],
   "source": [
    "#String\n",
    "greeting = \"Hello World!\"\n",
    "str_car = \"Ferrari is my favourite car.\"\n",
    "print(type(greeting))\n",
    "print(greeting)\n",
    "print(str_car)\n"
   ]
  },
  {
   "cell_type": "code",
   "execution_count": 16,
   "metadata": {},
   "outputs": [
    {
     "name": "stdout",
     "output_type": "stream",
     "text": [
      "\n",
      "Lorem Ipsum is simply dummy text of the printing and \n",
      "typesetting industry. Lorem Ipsum has been the industry's \n",
      "standard dummy text ever since the 1500s, when an unknown \n",
      "printer took a galley of type and scrambled it to make a \n",
      "type specimen book. It has survived not only five centuries, \n",
      "but also the leap into electronic typesetting, remaining \n",
      "essentially unchanged. It was popularised in the 1960s with \n",
      "the release of Letraset sheets containing Lorem Ipsum passages, \n",
      "and more recently with desktop publishing software like Aldus \n",
      "PageMaker including versions of Lorem Ipsum.\n"
     ]
    }
   ],
   "source": [
    "paragraph = '''\n",
    "Lorem Ipsum is simply dummy text of the printing and \n",
    "typesetting industry. Lorem Ipsum has been the industry's \n",
    "standard dummy text ever since the 1500s, when an unknown \n",
    "printer took a galley of type and scrambled it to make a \n",
    "type specimen book. It has survived not only five centuries, \n",
    "but also the leap into electronic typesetting, remaining \n",
    "essentially unchanged. It was popularised in the 1960s with \n",
    "the release of Letraset sheets containing Lorem Ipsum passages, \n",
    "and more recently with desktop publishing software like Aldus \n",
    "PageMaker including versions of Lorem Ipsum.'''\n",
    "\n",
    "print(paragraph)"
   ]
  },
  {
   "cell_type": "code",
   "execution_count": 19,
   "metadata": {},
   "outputs": [
    {
     "name": "stdout",
     "output_type": "stream",
     "text": [
      "6\n",
      "11\n"
     ]
    }
   ],
   "source": [
    "last_name = \"Savran\"\n",
    "last_name_with_spacing = \"S a v r a n\"\n",
    "print(len(last_name))\n",
    "print(len(last_name_with_spacing))"
   ]
  },
  {
   "cell_type": "code",
   "execution_count": 2,
   "metadata": {},
   "outputs": [
    {
     "data": {
      "text/plain": [
       "'Dmn'"
      ]
     },
     "execution_count": 2,
     "metadata": {},
     "output_type": "execute_result"
    }
   ],
   "source": [
    "# Python slicing strings\n",
    "my_cat = \"Duman\"\n",
    "my_cat[0:5:2]"
   ]
  },
  {
   "cell_type": "code",
   "execution_count": 4,
   "metadata": {},
   "outputs": [
    {
     "data": {
      "text/plain": [
       "'Dem'"
      ]
     },
     "execution_count": 4,
     "metadata": {},
     "output_type": "execute_result"
    }
   ],
   "source": [
    "my_cat2 = \"Demon\"\n",
    "my_cat2[2:]\n",
    "my_cat2[:3]"
   ]
  },
  {
   "cell_type": "code",
   "execution_count": null,
   "metadata": {},
   "outputs": [],
   "source": []
  }
 ],
 "metadata": {
  "kernelspec": {
   "display_name": "Python 3",
   "language": "python",
   "name": "python3"
  },
  "language_info": {
   "codemirror_mode": {
    "name": "ipython",
    "version": 3
   },
   "file_extension": ".py",
   "mimetype": "text/x-python",
   "name": "python",
   "nbconvert_exporter": "python",
   "pygments_lexer": "ipython3",
   "version": "3.11.3"
  },
  "orig_nbformat": 4
 },
 "nbformat": 4,
 "nbformat_minor": 2
}
