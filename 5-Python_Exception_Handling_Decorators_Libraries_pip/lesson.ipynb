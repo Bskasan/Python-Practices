{
 "cells": [
  {
   "attachments": {},
   "cell_type": "markdown",
   "metadata": {},
   "source": [
    "### Exception Handling"
   ]
  },
  {
   "cell_type": "code",
   "execution_count": 2,
   "metadata": {},
   "outputs": [
    {
     "name": "stdout",
     "output_type": "stream",
     "text": [
      "You are overweight and your index 25.0\n"
     ]
    }
   ],
   "source": [
    "def body_index_calc(height, weight):\n",
    "    result_bindex = weight / (height * height)\n",
    "    if result_bindex >= 40:\n",
    "        print(f'You are fully obesite and your index {result_bindex}')\n",
    "    elif result_bindex < 40 and result_bindex >= 35:\n",
    "        print(f'You are little bit obesite and your index {result_bindex}')\n",
    "    elif result_bindex < 35 and result_bindex >= 30:\n",
    "        print(f'You are obesite and your index {result_bindex}')\n",
    "    elif result_bindex < 30 and result_bindex >= 25.0:\n",
    "        print(f'You are overweight and your index {result_bindex}')\n",
    "    elif result_bindex < 25 and result_bindex > 18.5:\n",
    "        print(f'You are normal weight and your index {result_bindex}')\n",
    "    elif result_bindex <= 18.5:\n",
    "        print(f'You are skinny and your index {result_bindex}')\n",
    "\n",
    "\n",
    "body_index_calc(1.80, 81)"
   ]
  },
  {
   "cell_type": "code",
   "execution_count": 6,
   "metadata": {},
   "outputs": [
    {
     "name": "stdout",
     "output_type": "stream",
     "text": [
      "12\n"
     ]
    }
   ],
   "source": [
    "# x=12\n",
    "# The try block will generate an exception, because the variable is not defined, to handle that situation;\n",
    "try:\n",
    "    print(x)\n",
    "except:\n",
    "    print(\"An exception occurred\")\n",
    "# Since the try block raises an error, the except block will be executed."
   ]
  },
  {
   "cell_type": "code",
   "execution_count": null,
   "metadata": {},
   "outputs": [],
   "source": []
  }
 ],
 "metadata": {
  "kernelspec": {
   "display_name": "Python 3",
   "language": "python",
   "name": "python3"
  },
  "language_info": {
   "codemirror_mode": {
    "name": "ipython",
    "version": 3
   },
   "file_extension": ".py",
   "mimetype": "text/x-python",
   "name": "python",
   "nbconvert_exporter": "python",
   "pygments_lexer": "ipython3",
   "version": "3.11.3"
  },
  "orig_nbformat": 4
 },
 "nbformat": 4,
 "nbformat_minor": 2
}
