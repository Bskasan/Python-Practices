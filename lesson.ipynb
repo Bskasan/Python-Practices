{
 "cells": [
  {
   "cell_type": "code",
   "execution_count": 3,
   "metadata": {},
   "outputs": [
    {
     "name": "stdout",
     "output_type": "stream",
     "text": [
      "Hello World\n",
      "My name is Bekir, today I started to learn Python programming language\n"
     ]
    }
   ],
   "source": [
    "# This line prints a hello world.\n",
    "#* Comments are helpful for people who read your code in the future.\n",
    "print('Hello World')\n",
    "print('My name is Bekir, today I started to learn Python programming language.')\n"
   ]
  },
  {
   "cell_type": "code",
   "execution_count": 9,
   "metadata": {},
   "outputs": [
    {
     "name": "stdout",
     "output_type": "stream",
     "text": [
      "<class 'int'>\n",
      "<class 'str'>\n"
     ]
    }
   ],
   "source": [
    "#Variables\n",
    "#Python is dynamic programming language.\n",
    "\n",
    "my_var = 'Hello World'\n",
    "my_num = 12\n",
    "\n",
    "print(type(my_num))\n",
    "print(type(my_var))\n"
   ]
  },
  {
   "cell_type": "code",
   "execution_count": 11,
   "metadata": {},
   "outputs": [
    {
     "name": "stdout",
     "output_type": "stream",
     "text": [
      "Bekir\n",
      "Kasan\n",
      "29\n"
     ]
    }
   ],
   "source": [
    "first_name = \"Bekir\"\n",
    "surname = \"Kasan\"\n",
    "my_age = 29\n",
    "\n",
    "print(first_name)\n",
    "print(surname)\n",
    "print(my_age)"
   ]
  },
  {
   "cell_type": "code",
   "execution_count": null,
   "metadata": {},
   "outputs": [],
   "source": []
  }
 ],
 "metadata": {
  "kernelspec": {
   "display_name": "Python 3",
   "language": "python",
   "name": "python3"
  },
  "language_info": {
   "codemirror_mode": {
    "name": "ipython",
    "version": 3
   },
   "file_extension": ".py",
   "mimetype": "text/x-python",
   "name": "python",
   "nbconvert_exporter": "python",
   "pygments_lexer": "ipython3",
   "version": "3.11.3"
  },
  "orig_nbformat": 4
 },
 "nbformat": 4,
 "nbformat_minor": 2
}
