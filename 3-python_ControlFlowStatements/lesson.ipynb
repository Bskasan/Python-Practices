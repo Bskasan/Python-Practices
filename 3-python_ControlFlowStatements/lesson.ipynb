{
 "cells": [
  {
   "cell_type": "code",
   "execution_count": 5,
   "metadata": {},
   "outputs": [
    {
     "name": "stdout",
     "output_type": "stream",
     "text": [
      "Else if working!\n"
     ]
    }
   ],
   "source": [
    "# The is statement is a conditional statement in Python that allows you to execute a block of code only if a certain condition is true. Basic syntax: \n",
    "\n",
    "isConditional = False\n",
    "isElse = True\n",
    "\n",
    "if isConditional: \n",
    "    print(\"Conditional Statement is working here!\")\n",
    "elif isElse:\n",
    "    # You can also use the elif and else statements to create more complex conditions\n",
    "    print('Else if working!')\n",
    "else:\n",
    "    print(\"Conditional Statement is not working here!\")"
   ]
  },
  {
   "cell_type": "markdown",
   "metadata": {},
   "source": []
  },
  {
   "cell_type": "code",
   "execution_count": 12,
   "metadata": {},
   "outputs": [
    {
     "name": "stdout",
     "output_type": "stream",
     "text": [
      "a = 3\n",
      "b = 5\n",
      "a is lower than b\n",
      "-------------\n",
      "a = 4\n",
      "b = 2\n",
      "a is greater than b\n"
     ]
    }
   ],
   "source": [
    "def printMax(a, b):\n",
    "    if (a > b):\n",
    "        print(f'a = {a}')\n",
    "        print(f'b = {b}')\n",
    "        print('a is greater than b')\n",
    "    elif (a == b):\n",
    "        print(f'a = {a}')\n",
    "        print(f'b = {b}')\n",
    "        print('a is equal to b')\n",
    "    else:\n",
    "        print(f'a = {a}')\n",
    "        print(f'b = {b}')\n",
    "        print('a is lower than b')\n",
    "\n",
    "printMax(3, 5)\n",
    "print(\"-------------\")\n",
    "printMax(4, 2)\n",
    "\n"
   ]
  },
  {
   "cell_type": "code",
   "execution_count": 13,
   "metadata": {},
   "outputs": [
    {
     "name": "stdout",
     "output_type": "stream",
     "text": [
      "num is less than or equal to 10\n"
     ]
    }
   ],
   "source": [
    "# Ternary operators ( one-line if statements )\n",
    "num = 5\n",
    "print(\"num is greater than 10\" if num > 10 else \"num is less than or equal to 10\")\n"
   ]
  },
  {
   "cell_type": "code",
   "execution_count": null,
   "metadata": {},
   "outputs": [],
   "source": []
  }
 ],
 "metadata": {
  "kernelspec": {
   "display_name": "Python 3",
   "language": "python",
   "name": "python3"
  },
  "language_info": {
   "codemirror_mode": {
    "name": "ipython",
    "version": 3
   },
   "file_extension": ".py",
   "mimetype": "text/x-python",
   "name": "python",
   "nbconvert_exporter": "python",
   "pygments_lexer": "ipython3",
   "version": "3.11.3"
  },
  "orig_nbformat": 4
 },
 "nbformat": 4,
 "nbformat_minor": 2
}
