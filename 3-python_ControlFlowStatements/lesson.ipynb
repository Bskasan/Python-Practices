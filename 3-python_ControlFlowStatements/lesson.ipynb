{
 "cells": [
  {
   "cell_type": "code",
   "execution_count": 1,
   "metadata": {},
   "outputs": [
    {
     "name": "stdout",
     "output_type": "stream",
     "text": [
      "Geri sayim 5\n",
      "Geri sayim 4\n",
      "Geri sayim 3\n",
      "Geri sayim 2\n",
      "Geri sayim 1\n",
      "!!Ates!!\n"
     ]
    }
   ],
   "source": [
    "import time\n",
    "\n",
    "num = 5\n",
    "\n",
    "while num > 0:\n",
    "    print(f'Geri sayim {num}')\n",
    "    time.sleep(1)\n",
    "    num -= 1\n",
    "    \n",
    "print('!!Ates!!')"
   ]
  },
  {
   "cell_type": "code",
   "execution_count": null,
   "metadata": {},
   "outputs": [],
   "source": []
  },
  {
   "cell_type": "code",
   "execution_count": 5,
   "metadata": {},
   "outputs": [
    {
     "name": "stdout",
     "output_type": "stream",
     "text": [
      "2 hakkiniz kaldi\n",
      "1 hakkiniz kaldi\n",
      "lütfen yönetici ile iletişime geçiniz\n"
     ]
    }
   ],
   "source": [
    "pw = ''\n",
    "giris_hakki = 3\n",
    "\n",
    "while pw != 'secret' and giris_hakki > 0:\n",
    "    pw = input('Sifreyi giriniz: ') \n",
    "    giris_hakki -= 1\n",
    "    print(f'{giris_hakki} hakkiniz kaldi')\n",
    "\n",
    "print(\"lütfen yönetici ile iletişime geçiniz\")"
   ]
  },
  {
   "cell_type": "code",
   "execution_count": null,
   "metadata": {},
   "outputs": [],
   "source": []
  }
 ],
 "metadata": {
  "kernelspec": {
   "display_name": "Python 3",
   "language": "python",
   "name": "python3"
  },
  "language_info": {
   "codemirror_mode": {
    "name": "ipython",
    "version": 3
   },
   "file_extension": ".py",
   "mimetype": "text/x-python",
   "name": "python",
   "nbconvert_exporter": "python",
   "pygments_lexer": "ipython3",
   "version": "3.11.3"
  },
  "orig_nbformat": 4
 },
 "nbformat": 4,
 "nbformat_minor": 2
}
