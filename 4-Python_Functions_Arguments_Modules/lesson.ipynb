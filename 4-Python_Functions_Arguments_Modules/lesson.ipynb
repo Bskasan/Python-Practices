{
 "cells": [
  {
   "cell_type": "code",
   "execution_count": 2,
   "metadata": {},
   "outputs": [
    {
     "data": {
      "text/plain": [
       "8"
      ]
     },
     "execution_count": 2,
     "metadata": {},
     "output_type": "execute_result"
    }
   ],
   "source": [
    "### FUNCTIONS\n",
    "\n",
    "#* A block of code which only runs when it is called.\n",
    "#* You can pass data, known as parameters, into a function.\n",
    "#* A function can return data as result.\n",
    "#* Naming function varies, but in django you will generally see snake_case...\n",
    "\n",
    "\n",
    "def sum(a, b):\n",
    "    return a + b\n",
    "\n",
    "sum(3, 5)\n",
    "\n"
   ]
  },
  {
   "cell_type": "code",
   "execution_count": 16,
   "metadata": {},
   "outputs": [
    {
     "name": "stdout",
     "output_type": "stream",
     "text": [
      "This is my first function in python! :>)\n"
     ]
    },
    {
     "data": {
      "text/plain": [
       "'Bekir'"
      ]
     },
     "execution_count": 16,
     "metadata": {},
     "output_type": "execute_result"
    }
   ],
   "source": [
    "def my_func():\n",
    "    print('This is my first function in python! :>)')\n",
    "\n",
    "my_func();\n",
    "\n",
    "#? 'print' is a built-in Python function that outputs text to the console. \n",
    "#? 'return' is a keyword in Python that lets you return a value from a function.\n",
    "\n",
    "def write_my_name(nameInput):\n",
    "    '''\n",
    "    This function shows your name as given input.\n",
    "    '''\n",
    "    return nameInput\n",
    "\n",
    "def write_my_name_print(nameInput):\n",
    "    print(nameInput)\n",
    "\n",
    "write_my_name('Bekir')\n"
   ]
  },
  {
   "cell_type": "code",
   "execution_count": 18,
   "metadata": {},
   "outputs": [
    {
     "name": "stdout",
     "output_type": "stream",
     "text": [
      "Bekir\n"
     ]
    }
   ],
   "source": [
    "write_my_name_print('Bekir')"
   ]
  },
  {
   "cell_type": "code",
   "execution_count": 21,
   "metadata": {},
   "outputs": [
    {
     "data": {
      "text/plain": [
       "' The Perimeter of the given triangle is 10 '"
      ]
     },
     "execution_count": 21,
     "metadata": {},
     "output_type": "execute_result"
    }
   ],
   "source": [
    "\n",
    "#! nameInput -> argument\n",
    "#! \"Bekir\" -> parameter when the func is used.\n",
    "\n",
    "\n",
    "#? CHALLENGE 1\n",
    "def calculate_per_of_triangle(a, b, c):\n",
    "    '''\n",
    "    This function calculates the perimeter of triangle with given input/details.\n",
    "    '''\n",
    "    return f' The Perimeter of the given triangle is {a + b + c} '\n",
    "\n",
    "calculate_per_of_triangle(2, 3, 5)\n",
    "#? ----------------------------------------------------------------\n",
    "\n",
    "\n"
   ]
  },
  {
   "cell_type": "code",
   "execution_count": 22,
   "metadata": {},
   "outputs": [
    {
     "data": {
      "text/plain": [
       "'Hello Bekir Kasan, Welcome to the Jungle!!!'"
      ]
     },
     "execution_count": 22,
     "metadata": {},
     "output_type": "execute_result"
    }
   ],
   "source": [
    "def say_hello_to_full_name(first_name, last_name):\n",
    "    return f'Hello {first_name} {last_name}, Welcome to the Jungle!!!'\n",
    "\n",
    "say_hello_to_full_name(\"Bekir\", \"Kasan\")"
   ]
  },
  {
   "cell_type": "code",
   "execution_count": 26,
   "metadata": {},
   "outputs": [
    {
     "data": {
      "text/plain": [
       "\"Your children are ('Bekir', 'Betul') \""
      ]
     },
     "execution_count": 26,
     "metadata": {},
     "output_type": "execute_result"
    }
   ],
   "source": [
    "\n",
    "#? Arbitrary Arguments , *args\n",
    "#? -- If you don't know how many arguments that will be passed into your function, add a '*' before the parameter name in the function definition.\n",
    "\n",
    "def name_children(*names):\n",
    "    return f'Your children are {names} '\n",
    "\n",
    "name_children(\"Bekir\", \"Betul\")"
   ]
  },
  {
   "cell_type": "code",
   "execution_count": 32,
   "metadata": {},
   "outputs": [
    {
     "name": "stdout",
     "output_type": "stream",
     "text": [
      "Hello Betul\n",
      "Hello Zeynep\n",
      "Hello Bekir\n"
     ]
    }
   ],
   "source": [
    "def my_other_args_func(*args):\n",
    "    for arg in args:\n",
    "        print(f'Hello {arg}')\n",
    "\n",
    "my_other_args_func(\"Betul\", \"Zeynep\", \"Bekir\")"
   ]
  },
  {
   "cell_type": "code",
   "execution_count": 35,
   "metadata": {},
   "outputs": [],
   "source": [
    "### Keyword Arguments\n",
    "\n",
    "def salute_to_name(first_name, last_name):\n",
    "    return f'Hello {first_name} {last_name}'\n"
   ]
  },
  {
   "cell_type": "code",
   "execution_count": 38,
   "metadata": {},
   "outputs": [
    {
     "data": {
      "text/plain": [
       "'Hello Anne Koskinen'"
      ]
     },
     "execution_count": 38,
     "metadata": {},
     "output_type": "execute_result"
    }
   ],
   "source": [
    "salute_to_name(last_name='Koskinen', first_name='Anne')"
   ]
  },
  {
   "cell_type": "code",
   "execution_count": 45,
   "metadata": {},
   "outputs": [
    {
     "name": "stdout",
     "output_type": "stream",
     "text": [
      "Hello Marry\n",
      "Hello Tommy you are arbitrary args\n",
      "Hello Rafe you are arbitrary args\n",
      "Hello Busra you are arb keyword args\n",
      "Hello Helen you are arb keyword args\n"
     ]
    }
   ],
   "source": [
    "def my_kids(kid1, *args, **kwargs):\n",
    "    \n",
    "    print(f'Hello {kid1}')\n",
    "\n",
    "    for arg in args:\n",
    "        print(f'Hello {arg} you are arbitrary args')\n",
    "        \n",
    "    for kid in kwargs.values():\n",
    "        print(f'Hello {kid} you are arb keyword args')\n",
    "\n",
    "my_kids( 'Marry', 'Tommy', 'Rafe', kid2 = 'Busra', kid3 = 'Helen')"
   ]
  },
  {
   "cell_type": "code",
   "execution_count": null,
   "metadata": {},
   "outputs": [],
   "source": []
  }
 ],
 "metadata": {
  "kernelspec": {
   "display_name": "Python 3",
   "language": "python",
   "name": "python3"
  },
  "language_info": {
   "codemirror_mode": {
    "name": "ipython",
    "version": 3
   },
   "file_extension": ".py",
   "mimetype": "text/x-python",
   "name": "python",
   "nbconvert_exporter": "python",
   "pygments_lexer": "ipython3",
   "version": "3.11.3"
  },
  "orig_nbformat": 4
 },
 "nbformat": 4,
 "nbformat_minor": 2
}
