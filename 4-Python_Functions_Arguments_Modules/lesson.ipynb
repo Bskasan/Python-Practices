{
 "cells": [
  {
   "cell_type": "code",
   "execution_count": 2,
   "metadata": {},
   "outputs": [
    {
     "data": {
      "text/plain": [
       "8"
      ]
     },
     "execution_count": 2,
     "metadata": {},
     "output_type": "execute_result"
    }
   ],
   "source": [
    "### FUNCTIONS\n",
    "\n",
    "#* A block of code which only runs when it is called.\n",
    "#* You can pass data, known as parameters, into a function.\n",
    "#* A function can return data as result.\n",
    "#* Naming function varies, but in django you will generally see snake_case...\n",
    "\n",
    "\n",
    "def sum(a, b):\n",
    "    return a + b\n",
    "\n",
    "sum(3, 5)\n",
    "\n"
   ]
  },
  {
   "cell_type": "code",
   "execution_count": 16,
   "metadata": {},
   "outputs": [
    {
     "name": "stdout",
     "output_type": "stream",
     "text": [
      "This is my first function in python! :>)\n"
     ]
    },
    {
     "data": {
      "text/plain": [
       "'Bekir'"
      ]
     },
     "execution_count": 16,
     "metadata": {},
     "output_type": "execute_result"
    }
   ],
   "source": [
    "def my_func():\n",
    "    print('This is my first function in python! :>)')\n",
    "\n",
    "my_func();\n",
    "\n",
    "#? 'print' is a built-in Python function that outputs text to the console. \n",
    "#? 'return' is a keyword in Python that lets you return a value from a function.\n",
    "\n",
    "def write_my_name(nameInput):\n",
    "    '''\n",
    "    This function shows your name as given input.\n",
    "    '''\n",
    "    return nameInput\n",
    "\n",
    "def write_my_name_print(nameInput):\n",
    "    print(nameInput)\n",
    "\n",
    "write_my_name('Bekir')\n"
   ]
  },
  {
   "cell_type": "code",
   "execution_count": 18,
   "metadata": {},
   "outputs": [
    {
     "name": "stdout",
     "output_type": "stream",
     "text": [
      "Bekir\n"
     ]
    }
   ],
   "source": [
    "write_my_name_print('Bekir')"
   ]
  },
  {
   "cell_type": "code",
   "execution_count": 20,
   "metadata": {},
   "outputs": [
    {
     "data": {
      "text/plain": [
       "' The Perimeter of the given triangle is 10'"
      ]
     },
     "execution_count": 20,
     "metadata": {},
     "output_type": "execute_result"
    }
   ],
   "source": [
    "\n",
    "#! nameInput -> argument\n",
    "#! \"Bekir\" -> parameter when the func is used.\n",
    "\n",
    "\n",
    "#? CHALLENGE 1\n",
    "def calculate_per_of_triangle(a, b, c):\n",
    "    return f' The Perimeter of the given triangle is {a + b + c}'\n",
    "\n",
    "calculate_per_of_triangle(2, 3, 5)\n",
    "#? ----------------------------------------------------------------\n",
    "\n",
    "\n"
   ]
  },
  {
   "cell_type": "code",
   "execution_count": null,
   "metadata": {},
   "outputs": [],
   "source": [
    "re"
   ]
  }
 ],
 "metadata": {
  "kernelspec": {
   "display_name": "Python 3",
   "language": "python",
   "name": "python3"
  },
  "language_info": {
   "codemirror_mode": {
    "name": "ipython",
    "version": 3
   },
   "file_extension": ".py",
   "mimetype": "text/x-python",
   "name": "python",
   "nbconvert_exporter": "python",
   "pygments_lexer": "ipython3",
   "version": "3.11.3"
  },
  "orig_nbformat": 4
 },
 "nbformat": 4,
 "nbformat_minor": 2
}
